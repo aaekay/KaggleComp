{
  "nbformat": 4,
  "nbformat_minor": 0,
  "metadata": {
    "colab": {
      "name": "Tensorflow_model_human_protein",
      "provenance": [],
      "authorship_tag": "ABX9TyOfREq/r7Lmc3BvIWRxfVG1",
      "include_colab_link": true
    },
    "kernelspec": {
      "name": "python3",
      "display_name": "Python 3"
    }
  },
  "cells": [
    {
      "cell_type": "markdown",
      "metadata": {
        "id": "view-in-github",
        "colab_type": "text"
      },
      "source": [
        "<a href=\"https://colab.research.google.com/github/aaekay/KaggleComp/blob/master/Tensorflow_model_human_protein.ipynb\" target=\"_parent\"><img src=\"https://colab.research.google.com/assets/colab-badge.svg\" alt=\"Open In Colab\"/></a>"
      ]
    },
    {
      "cell_type": "code",
      "metadata": {
        "id": "vRgLcIDkLzM_",
        "colab_type": "code",
        "colab": {}
      },
      "source": [
        "!pip install git+https://github.com/Kaggle/kaggle-api.git --upgrade\n",
        "import os\n",
        "credentials = {\"username\":\"aaekaygarg\",\"key\":\"ef13ad8a27476a867c5f5b23d7de735e\"}\n",
        "os.environ['KAGGLE_USERNAME']=credentials[\"username\"]\n",
        "os.environ['KAGGLE_KEY']=credentials[\"key\"]"
      ],
      "execution_count": null,
      "outputs": []
    },
    {
      "cell_type": "code",
      "metadata": {
        "id": "udxU0yH5L4wu",
        "colab_type": "code",
        "colab": {}
      },
      "source": [
        "!kaggle competitions download -c jovian-pytorch-z2g\n",
        "!unzip jovian-pytorch-z2g.zip"
      ],
      "execution_count": null,
      "outputs": []
    },
    {
      "cell_type": "code",
      "metadata": {
        "id": "hwhMZHyXMCFc",
        "colab_type": "code",
        "colab": {}
      },
      "source": [
        "import os\n",
        "import torch\n",
        "import pandas as pd\n",
        "import numpy as np\n",
        "from torch.utils.data import Dataset, random_split, DataLoader\n",
        "from PIL import Image\n",
        "import torchvision.models as models\n",
        "import matplotlib.pyplot as plt\n",
        "from tqdm.notebook import tqdm\n",
        "import torchvision.transforms as T\n",
        "from sklearn.metrics import f1_score\n",
        "import torch.nn.functional as F\n",
        "import torch.nn as nn\n",
        "from torchvision.utils import make_grid\n",
        "%matplotlib inline"
      ],
      "execution_count": null,
      "outputs": []
    },
    {
      "cell_type": "code",
      "metadata": {
        "id": "5hr3x0CzMCxL",
        "colab_type": "code",
        "colab": {}
      },
      "source": [
        "DATA_DIR = '/content/Human protein atlas'\n",
        "\n",
        "TRAIN_DIR = DATA_DIR + '/train'                           # Contains training images\n",
        "TEST_DIR = DATA_DIR + '/test'                             # Contains test images\n",
        "\n",
        "TRAIN_CSV = DATA_DIR + '/train.csv'                       # Contains real labels for training images\n",
        "TEST_CSV = '/content/submission.csv'"
      ],
      "execution_count": null,
      "outputs": []
    }
  ]
}