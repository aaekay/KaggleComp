{
  "nbformat": 4,
  "nbformat_minor": 0,
  "metadata": {
    "kernelspec": {
      "language": "python",
      "display_name": "Python 3",
      "name": "python3"
    },
    "language_info": {
      "pygments_lexer": "ipython3",
      "nbconvert_exporter": "python",
      "version": "3.6.4",
      "file_extension": ".py",
      "codemirror_mode": {
        "name": "ipython",
        "version": 3
      },
      "name": "python",
      "mimetype": "text/x-python"
    },
    "colab": {
      "name": "Advanced_Transfer_Learning_Starter_Notebook.ipynb",
      "provenance": [],
      "toc_visible": true
    },
    "accelerator": "GPU"
  },
  "cells": [
    {
      "cell_type": "markdown",
      "metadata": {
        "id": "4B5ypCxHcVAC",
        "colab_type": "text"
      },
      "source": [
        "### Welcome to NoteBook"
      ]
    },
    {
      "cell_type": "markdown",
      "metadata": {
        "id": "tRR_1RHAca4_",
        "colab_type": "text"
      },
      "source": [
        "Here I will be providing the different summaries of the parameters"
      ]
    },
    {
      "cell_type": "markdown",
      "metadata": {
        "id": "bVxZM4aQcjdM",
        "colab_type": "text"
      },
      "source": [
        "\n",
        "\n",
        "1.   Batch Size: I will be reducing the batch size and rerun the same programs with the same settings and note the parameters\n",
        "* 64\n",
        "* 60\n",
        "* 55\n",
        "* 50\n",
        "* 45\n",
        "* 40\n",
        "2. Now different validation vs training set\n",
        "\n",
        "\n",
        "*   95 5\n",
        "*   90 10\n",
        "*   85 15\n",
        "*   80 20\n",
        "*   75 25\n",
        "*   70 30\n",
        "\n",
        "my settings for parameters will be\n",
        "parameters = [(10, 0.002),\n",
        "    (4, 0.001),\n",
        "    (4, 0.0005),\n",
        "    (4, 0.0001),\n",
        "]\n",
        "after unfreezing the layer\n",
        "1. epochs = 6\n",
        "2. max_lr = 0.0001\n",
        "3. grad_clip = 0.5\n",
        "4. weight_decay = 1e-5\n",
        "5. opt_func = torch.optim.Adam\n",
        "\n",
        "\n",
        "\n",
        "\n"
      ]
    },
    {
      "cell_type": "markdown",
      "metadata": {
        "_uuid": "8f2839f25d086af736a60e9eeb907d3b93b6e0e5",
        "_cell_guid": "b1076dfc-b9ad-4769-8c92-a6c4dae69d19",
        "trusted": true,
        "id": "m6ZyIERIy6l8",
        "colab_type": "text"
      },
      "source": [
        "# Human Protein Multi Label Image Classification - Transfer Learning & Regularization\n",
        "\n",
        "\n",
        "How a CNN learns ([source](https://developer.nvidia.com/discover/convolutional-neural-network)):\n",
        "\n",
        "![cnn-learning](https://developer.nvidia.com/sites/default/files/pictures/2018/convolutional_neural_network.png)\n",
        "\n",
        "Layer visualization ([source](https://medium.com/analytics-vidhya/deep-learning-visualization-and-interpretation-of-neural-networks-2f3f82f501c5)):\n",
        "\n",
        "![cnn-learning](https://miro.medium.com/max/1610/1*WysCJ6Ynecvviwctt6WDlQ.png)\n",
        "\n",
        "\n",
        "Transfer learning ([source](https://mc.ai/transfer-learning-with-deep-learning-machine-learning-techniques/)):\n",
        "![transfer-learning](https://miro.medium.com/max/1000/1*LUFUl_8fqS97nUzpcFjgWw.png)\n",
        "\n",
        "This is a starter notebook for the competition [Zero to GANs - Human Protein Classification](https://www.kaggle.com/c/jovian-pytorch-z2g). It incorporates transfer learning, and other techniques from https://jovian.ml/aakashns/05b-cifar10-resnet"
      ]
    },
    {
      "cell_type": "markdown",
      "metadata": {
        "id": "FZMryYZFJiR2",
        "colab_type": "text"
      },
      "source": [
        "### Welcome to the Human Protei Multilabel Image Classification"
      ]
    },
    {
      "cell_type": "markdown",
      "metadata": {
        "id": "Ezll3YyYJr0E",
        "colab_type": "text"
      },
      "source": [
        "We will explore how to use this notebook to get the data"
      ]
    },
    {
      "cell_type": "code",
      "metadata": {
        "id": "ip5MR8bfzADY",
        "colab_type": "code",
        "colab": {}
      },
      "source": [
        "!rm -rf /content/*"
      ],
      "execution_count": 9,
      "outputs": []
    },
    {
      "cell_type": "code",
      "metadata": {
        "id": "cLLl3hyeRUSV",
        "colab_type": "code",
        "colab": {
          "base_uri": "https://localhost:8080/",
          "height": 80
        },
        "outputId": "22e73051-8d68-46c9-c78d-fd99aab791d7"
      },
      "source": [
        "!curl 'https://storage.googleapis.com/kaggle-competitions-data/kaggle-v2/21265/1267903/bundle/archive.zip?GoogleAccessId=web-data@kaggle-161607.iam.gserviceaccount.com&Expires=1593293915&Signature=DCBvw%2BC6HFenjbxT9vJrU5GU0yVsZP8fYwRDx0fIhcJqANnzyCmnP427c4VyUYLfycRsjxh221l5C%2FWwTNXvs6Y%2B8SaxEDgDd%2FPJ3jOl%2FPiAw38IlWST%2F1kUWbEP2qq9OyEGCHWLX88VVSumMyjCDbFcaCXG%2B4dBIAohXM5HkWxMYht5%2B1yyNJGoGEoDa8oLu8nRCBs7Yu9NGmuALBwk5KWFqDxNXCgpWa%2FJru%2BtJ1EV4UrN48N06si4WOIobOFFhWU%2FAjsZBlQCT9a3PZRQzoom2%2BPP8aS7YG3NcESZdG3s1nqEgpcFq506%2BXGuutdlVBQ57rWHJqQAT3OkLK2BRw%3D%3D&response-content-disposition=attachment%3B+filename%3Djovian-pytorch-z2g.zip' \\\n",
        "  -H 'authority: storage.googleapis.com' \\\n",
        "  -H 'upgrade-insecure-requests: 1' \\\n",
        "  -H 'user-agent: Mozilla/5.0 (Linux; Android 6.0; Nexus 5 Build/MRA58N) AppleWebKit/537.36 (KHTML, like Gecko) Chrome/83.0.4103.116 Mobile Safari/537.36' \\\n",
        "  -H 'accept: text/html,application/xhtml+xml,application/xml;q=0.9,image/webp,image/apng,*/*;q=0.8,application/signed-exchange;v=b3;q=0.9' \\\n",
        "  -H 'sec-fetch-site: cross-site' \\\n",
        "  -H 'sec-fetch-mode: navigate' \\\n",
        "  -H 'sec-fetch-user: ?1' \\\n",
        "  -H 'sec-fetch-dest: document' \\\n",
        "  -H 'referer: https://www.kaggle.com/' \\\n",
        "  -H 'accept-language: en-US,en;q=0.9' \\\n",
        "  --compressed -o jovian-pytorch-z2g.zip"
      ],
      "execution_count": null,
      "outputs": [
        {
          "output_type": "stream",
          "text": [
            "  % Total    % Received % Xferd  Average Speed   Time    Time     Time  Current\n",
            "                                 Dload  Upload   Total   Spent    Left  Speed\n",
            " 28 9087M   28 2560M    0     0  73.8M      0  0:02:02  0:00:34  0:01:28 39.6M"
          ],
          "name": "stdout"
        }
      ]
    },
    {
      "cell_type": "code",
      "metadata": {
        "id": "muYr0v-yzJ4O",
        "colab_type": "code",
        "colab": {}
      },
      "source": [
        "!unzip jovian-pytorch-z2g.zip"
      ],
      "execution_count": null,
      "outputs": []
    },
    {
      "cell_type": "code",
      "metadata": {
        "_uuid": "d629ff2d2480ee46fbb7e2d37f6b5fab8052498a",
        "_cell_guid": "79c7e3d0-c299-4dcb-8224-4455121ee9b0",
        "trusted": true,
        "id": "kd8Dp2U1y6l9",
        "colab_type": "code",
        "colab": {}
      },
      "source": [
        "import os\n",
        "import torch\n",
        "import pandas as pd\n",
        "import numpy as np\n",
        "from torch.utils.data import Dataset, random_split, DataLoader\n",
        "from PIL import Image\n",
        "import torchvision.models as models\n",
        "import matplotlib.pyplot as plt\n",
        "from tqdm.notebook import tqdm\n",
        "import torchvision.transforms as T\n",
        "from sklearn.metrics import f1_score\n",
        "import torch.nn.functional as F\n",
        "import torch.nn as nn\n",
        "from torchvision.utils import make_grid\n",
        "%matplotlib inline"
      ],
      "execution_count": null,
      "outputs": []
    },
    {
      "cell_type": "markdown",
      "metadata": {
        "id": "yVXppZ2sy6mB",
        "colab_type": "text"
      },
      "source": [
        "## Preparing the Data"
      ]
    },
    {
      "cell_type": "code",
      "metadata": {
        "trusted": true,
        "id": "xDRoQYtFy6mC",
        "colab_type": "code",
        "colab": {}
      },
      "source": [
        "DATA_DIR = '/content/Human protein atlas'\n",
        "\n",
        "TRAIN_DIR = DATA_DIR + '/train'                           # Contains training images\n",
        "TEST_DIR = DATA_DIR + '/test'                             # Contains test images\n",
        "\n",
        "TRAIN_CSV = DATA_DIR + '/train.csv'                       # Contains real labels for training images\n",
        "TEST_CSV = '/content/submission.csv'   # Contains dummy labels for test image"
      ],
      "execution_count": null,
      "outputs": []
    },
    {
      "cell_type": "code",
      "metadata": {
        "trusted": true,
        "id": "1yXxsaRDy6mE",
        "colab_type": "code",
        "colab": {}
      },
      "source": [
        "data_df = pd.read_csv(TRAIN_CSV)\n",
        "data_df.head()"
      ],
      "execution_count": null,
      "outputs": []
    },
    {
      "cell_type": "code",
      "metadata": {
        "trusted": true,
        "id": "UiMgZmu5y6mH",
        "colab_type": "code",
        "colab": {}
      },
      "source": [
        "labels = {\n",
        "    0: 'Mitochondria',\n",
        "    1: 'Nuclear bodies',\n",
        "    2: 'Nucleoli',\n",
        "    3: 'Golgi apparatus',\n",
        "    4: 'Nucleoplasm',\n",
        "    5: 'Nucleoli fibrillar center',\n",
        "    6: 'Cytosol',\n",
        "    7: 'Plasma membrane',\n",
        "    8: 'Centrosome',\n",
        "    9: 'Nuclear speckles'\n",
        "}"
      ],
      "execution_count": null,
      "outputs": []
    },
    {
      "cell_type": "code",
      "metadata": {
        "trusted": true,
        "id": "_VaXK6MUy6mK",
        "colab_type": "code",
        "colab": {}
      },
      "source": [
        "def encode_label(label):\n",
        "    target = torch.zeros(10)\n",
        "    for l in str(label).split(' '):\n",
        "        target[int(l)] = 1.\n",
        "    return target\n",
        "\n",
        "def decode_target(target, text_labels=False, threshold=0.5):\n",
        "    result = []\n",
        "    for i, x in enumerate(target):\n",
        "        if (x >= threshold):\n",
        "            if text_labels:\n",
        "                result.append(labels[i] + \"(\" + str(i) + \")\")\n",
        "            else:\n",
        "                result.append(str(i))\n",
        "    return ' '.join(result)"
      ],
      "execution_count": null,
      "outputs": []
    },
    {
      "cell_type": "code",
      "metadata": {
        "trusted": true,
        "id": "2MXWsSDyy6mN",
        "colab_type": "code",
        "colab": {}
      },
      "source": [
        "class HumanProteinDataset(Dataset):\n",
        "    def __init__(self, df, root_dir, transform=None):\n",
        "        self.df = df\n",
        "        self.transform = transform\n",
        "        self.root_dir = root_dir\n",
        "        \n",
        "    def __len__(self):\n",
        "        return len(self.df)    \n",
        "    \n",
        "    def __getitem__(self, idx):\n",
        "        row = self.df.loc[idx]\n",
        "        img_id, img_label = row['Image'], row['Label']\n",
        "        img_fname = self.root_dir + \"/\" + str(img_id) + \".png\"\n",
        "        img = Image.open(img_fname)\n",
        "        if self.transform:\n",
        "            img = self.transform(img)\n",
        "        return img, encode_label(img_label)"
      ],
      "execution_count": null,
      "outputs": []
    },
    {
      "cell_type": "markdown",
      "metadata": {
        "id": "oDcJ0leby6mP",
        "colab_type": "text"
      },
      "source": [
        "### Data augmentations"
      ]
    },
    {
      "cell_type": "code",
      "metadata": {
        "trusted": true,
        "id": "wldyG-7by6mQ",
        "colab_type": "code",
        "colab": {}
      },
      "source": [
        "imagenet_stats = ([0.485, 0.456, 0.406], [0.229, 0.224, 0.225])\n",
        "\n",
        "train_tfms = T.Compose([\n",
        "    T.RandomCrop(512, padding=8, padding_mode='reflect'),\n",
        "#     T.RandomResizedCrop(256, scale=(0.5,0.9), ratio=(1, 1)), \n",
        "#     T.ColorJitter(brightness=0.1, contrast=0.1, saturation=0.1, hue=0.1),\n",
        "    T.RandomHorizontalFlip(), \n",
        "    T.RandomRotation(20),\n",
        "    T.ToTensor(), \n",
        "#     T.Normalize(*imagenet_stats,inplace=True), \n",
        "    T.RandomErasing(inplace=True)\n",
        "])\n",
        "\n",
        "valid_tfms = T.Compose([\n",
        "#     T.Resize(256), \n",
        "    T.ToTensor(), \n",
        "#    T.Normalize(*imagenet_stats)\n",
        "])"
      ],
      "execution_count": null,
      "outputs": []
    },
    {
      "cell_type": "code",
      "metadata": {
        "trusted": true,
        "id": "IZzM1orvy6mT",
        "colab_type": "code",
        "colab": {}
      },
      "source": [
        "np.random.seed(42)\n",
        "msk = np.random.rand(len(data_df)) < 0.9\n",
        "\n",
        "train_df = data_df[msk].reset_index()\n",
        "val_df = data_df[~msk].reset_index()"
      ],
      "execution_count": null,
      "outputs": []
    },
    {
      "cell_type": "code",
      "metadata": {
        "trusted": true,
        "id": "kAehU3Twy6mV",
        "colab_type": "code",
        "colab": {}
      },
      "source": [
        "train_ds = HumanProteinDataset(train_df, TRAIN_DIR, transform=train_tfms)\n",
        "val_ds = HumanProteinDataset(val_df, TRAIN_DIR, transform=valid_tfms)\n",
        "len(train_ds), len(val_ds)"
      ],
      "execution_count": null,
      "outputs": []
    },
    {
      "cell_type": "code",
      "metadata": {
        "trusted": true,
        "id": "pC9JdcA7y6mX",
        "colab_type": "code",
        "colab": {}
      },
      "source": [
        "def show_sample(img, target, invert=True):\n",
        "    if invert:\n",
        "        plt.imshow(1 - img.permute((1, 2, 0)))\n",
        "    else:\n",
        "        plt.imshow(img.permute(1, 2, 0))\n",
        "    print('Labels:', decode_target(target, text_labels=True))"
      ],
      "execution_count": null,
      "outputs": []
    },
    {
      "cell_type": "code",
      "metadata": {
        "trusted": true,
        "id": "oxZs0Y7Iy6mZ",
        "colab_type": "code",
        "colab": {}
      },
      "source": [
        "show_sample(*train_ds[1541])"
      ],
      "execution_count": null,
      "outputs": []
    },
    {
      "cell_type": "markdown",
      "metadata": {
        "id": "0p8xXvexy6md",
        "colab_type": "text"
      },
      "source": [
        "### DataLoaders"
      ]
    },
    {
      "cell_type": "code",
      "metadata": {
        "trusted": true,
        "id": "CsQMYHiDy6md",
        "colab_type": "code",
        "colab": {}
      },
      "source": [
        "batch_size = 64"
      ],
      "execution_count": null,
      "outputs": []
    },
    {
      "cell_type": "code",
      "metadata": {
        "trusted": true,
        "id": "3nqDyaRpy6mf",
        "colab_type": "code",
        "colab": {}
      },
      "source": [
        "train_dl = DataLoader(train_ds, batch_size, shuffle=True, \n",
        "                      num_workers=3, pin_memory=True)\n",
        "val_dl = DataLoader(val_ds, batch_size*2, \n",
        "                    num_workers=2, pin_memory=True)"
      ],
      "execution_count": null,
      "outputs": []
    },
    {
      "cell_type": "code",
      "metadata": {
        "trusted": true,
        "id": "2PPNSN80y6mh",
        "colab_type": "code",
        "colab": {}
      },
      "source": [
        "def show_batch(dl, invert=True):\n",
        "    for images, labels in dl:\n",
        "        fig, ax = plt.subplots(figsize=(16, 8))\n",
        "        ax.set_xticks([]); ax.set_yticks([])\n",
        "        data = 1-images if invert else images\n",
        "        ax.imshow(make_grid(data, nrow=16).permute(1, 2, 0))\n",
        "        break"
      ],
      "execution_count": null,
      "outputs": []
    },
    {
      "cell_type": "code",
      "metadata": {
        "trusted": true,
        "id": "5v_cwv4Wy6mi",
        "colab_type": "code",
        "colab": {}
      },
      "source": [
        "show_batch(train_dl, invert=True)"
      ],
      "execution_count": null,
      "outputs": []
    },
    {
      "cell_type": "markdown",
      "metadata": {
        "id": "09Mjk4c9y6mk",
        "colab_type": "text"
      },
      "source": [
        "## Model - Transfer Learning"
      ]
    },
    {
      "cell_type": "code",
      "metadata": {
        "trusted": true,
        "id": "3Vdsfy8sy6mk",
        "colab_type": "code",
        "colab": {}
      },
      "source": [
        "def F_score(output, label, threshold=0.5, beta=1):\n",
        "    prob = output > threshold\n",
        "    label = label > threshold\n",
        "\n",
        "    TP = (prob & label).sum(1).float()\n",
        "    TN = ((~prob) & (~label)).sum(1).float()\n",
        "    FP = (prob & (~label)).sum(1).float()\n",
        "    FN = ((~prob) & label).sum(1).float()\n",
        "\n",
        "    precision = torch.mean(TP / (TP + FP + 1e-12))\n",
        "    recall = torch.mean(TP / (TP + FN + 1e-12))\n",
        "    F2 = (1 + beta**2) * precision * recall / (beta**2 * precision + recall + 1e-12)\n",
        "    return F2.mean(0)"
      ],
      "execution_count": null,
      "outputs": []
    },
    {
      "cell_type": "code",
      "metadata": {
        "trusted": true,
        "id": "IwwjLXBYy6mm",
        "colab_type": "code",
        "colab": {}
      },
      "source": [
        "class MultilabelImageClassificationBase(nn.Module):\n",
        "    def training_step(self, batch):\n",
        "        images, targets = batch \n",
        "        out = self(images)                      \n",
        "        loss = F.binary_cross_entropy(out, targets)      \n",
        "        return loss\n",
        "    \n",
        "    def validation_step(self, batch):\n",
        "        images, targets = batch \n",
        "        out = self(images)                           # Generate predictions\n",
        "        loss = F.binary_cross_entropy(out, targets)  # Calculate loss\n",
        "        score = F_score(out, targets)\n",
        "        return {'val_loss': loss.detach(), 'val_score': score.detach() }\n",
        "        \n",
        "    def validation_epoch_end(self, outputs):\n",
        "        batch_losses = [x['val_loss'] for x in outputs]\n",
        "        epoch_loss = torch.stack(batch_losses).mean()   # Combine losses\n",
        "        batch_scores = [x['val_score'] for x in outputs]\n",
        "        epoch_score = torch.stack(batch_scores).mean()      # Combine accuracies\n",
        "        return {'val_loss': epoch_loss.item(), 'val_score': epoch_score.item()}\n",
        "    \n",
        "    def epoch_end(self, epoch, result):\n",
        "        print(\"Epoch [{}], train_loss: {:.4f}, val_loss: {:.4f}, val_score: {:.4f}\".format(\n",
        "            epoch, result['train_loss'], result['val_loss'], result['val_score']))"
      ],
      "execution_count": null,
      "outputs": []
    },
    {
      "cell_type": "markdown",
      "metadata": {
        "id": "DUjy9nJky6mo",
        "colab_type": "text"
      },
      "source": [
        "[Learn about ResNets.](https://towardsdatascience.com/an-overview-of-resnet-and-its-variants-5281e2f56035)\n",
        "\n",
        "Check out torchvision models: https://pytorch.org/docs/stable/torchvision/models.html"
      ]
    },
    {
      "cell_type": "code",
      "metadata": {
        "trusted": true,
        "id": "pq9MpRegy6mp",
        "colab_type": "code",
        "colab": {}
      },
      "source": [
        "resnet18 = models.resnet18()\n",
        "resnet18"
      ],
      "execution_count": null,
      "outputs": []
    },
    {
      "cell_type": "code",
      "metadata": {
        "trusted": true,
        "id": "5KthySAJy6mr",
        "colab_type": "code",
        "colab": {}
      },
      "source": [
        "class ProteinResnet(MultilabelImageClassificationBase):\n",
        "    def __init__(self):\n",
        "        super().__init__()\n",
        "        # Use a pretrained model\n",
        "        self.network = models.resnet34(pretrained=True)\n",
        "        # Replace last layer\n",
        "        num_ftrs = self.network.fc.in_features\n",
        "        self.network.fc = nn.Linear(num_ftrs, 10)\n",
        "    \n",
        "    def forward(self, xb):\n",
        "        return torch.sigmoid(self.network(xb))\n",
        "    \n",
        "    def freeze(self):\n",
        "        # To freeze the residual layers\n",
        "        for param in self.network.parameters():\n",
        "            param.require_grad = False\n",
        "        for param in self.network.fc.parameters():\n",
        "            param.require_grad = True\n",
        "    \n",
        "    def unfreeze(self):\n",
        "        # Unfreeze all layers\n",
        "        for param in self.network.parameters():\n",
        "            param.require_grad = True"
      ],
      "execution_count": null,
      "outputs": []
    },
    {
      "cell_type": "code",
      "metadata": {
        "trusted": true,
        "id": "20z0Mgf7y6mt",
        "colab_type": "code",
        "colab": {}
      },
      "source": [
        "def get_default_device():\n",
        "    \"\"\"Pick GPU if available, else CPU\"\"\"\n",
        "    if torch.cuda.is_available():\n",
        "        return torch.device('cuda')\n",
        "    else:\n",
        "        return torch.device('cpu')\n",
        "    \n",
        "def to_device(data, device):\n",
        "    \"\"\"Move tensor(s) to chosen device\"\"\"\n",
        "    if isinstance(data, (list,tuple)):\n",
        "        return [to_device(x, device) for x in data]\n",
        "    return data.to(device, non_blocking=True)\n",
        "\n",
        "class DeviceDataLoader():\n",
        "    \"\"\"Wrap a dataloader to move data to a device\"\"\"\n",
        "    def __init__(self, dl, device):\n",
        "        self.dl = dl\n",
        "        self.device = device\n",
        "        \n",
        "    def __iter__(self):\n",
        "        \"\"\"Yield a batch of data after moving it to device\"\"\"\n",
        "        for b in self.dl: \n",
        "            yield to_device(b, self.device)\n",
        "\n",
        "    def __len__(self):\n",
        "        \"\"\"Number of batches\"\"\"\n",
        "        return len(self.dl)"
      ],
      "execution_count": null,
      "outputs": []
    },
    {
      "cell_type": "code",
      "metadata": {
        "trusted": true,
        "id": "kDC_729Sy6mu",
        "colab_type": "code",
        "colab": {}
      },
      "source": [
        "device = get_default_device()\n",
        "device"
      ],
      "execution_count": null,
      "outputs": []
    },
    {
      "cell_type": "code",
      "metadata": {
        "trusted": true,
        "id": "GTxUrkQSy6mw",
        "colab_type": "code",
        "colab": {}
      },
      "source": [
        "train_dl = DeviceDataLoader(train_dl, device)\n",
        "val_dl = DeviceDataLoader(val_dl, device)"
      ],
      "execution_count": null,
      "outputs": []
    },
    {
      "cell_type": "markdown",
      "metadata": {
        "id": "TECJKR0xy6mx",
        "colab_type": "text"
      },
      "source": [
        "## Training"
      ]
    },
    {
      "cell_type": "code",
      "metadata": {
        "id": "GNqo-DjH0eYa",
        "colab_type": "code",
        "colab": {}
      },
      "source": [
        "@torch.no_grad()\n",
        "def evaluate(model, val_loader):\n",
        "    model.eval()\n",
        "    outputs = [model.validation_step(batch) for batch in val_loader]\n",
        "    return model.validation_epoch_end(outputs)\n",
        "\n",
        "def fit(epochs, lr, model, train_loader, val_loader, opt_func=torch.optim.SGD):\n",
        "    torch.cuda.empty_cache()\n",
        "    history = []\n",
        "    optimizer = opt_func(model.parameters(), lr)\n",
        "    for epoch in range(epochs):\n",
        "        # Training Phase \n",
        "        model.train()\n",
        "        train_losses = []\n",
        "        for batch in tqdm(train_loader):\n",
        "            loss = model.training_step(batch)\n",
        "            train_losses.append(loss)\n",
        "            loss.backward()\n",
        "            optimizer.step()\n",
        "            optimizer.zero_grad()\n",
        "        # Validation phase\n",
        "        result = evaluate(model, val_loader)\n",
        "        result['train_loss'] = torch.stack(train_losses).mean().item()\n",
        "        model.epoch_end(epoch, result)\n",
        "        history.append(result)\n",
        "    return history"
      ],
      "execution_count": null,
      "outputs": []
    },
    {
      "cell_type": "code",
      "metadata": {
        "trusted": true,
        "id": "oy1eoXoZy6m0",
        "colab_type": "code",
        "colab": {}
      },
      "source": [
        "model = to_device(ProteinResnet(), device)"
      ],
      "execution_count": null,
      "outputs": []
    },
    {
      "cell_type": "code",
      "metadata": {
        "trusted": true,
        "id": "cLdllzNjy6m2",
        "colab_type": "code",
        "colab": {}
      },
      "source": [
        "torch.cuda.empty_cache()\n",
        "history = [evaluate(model, val_dl)]\n",
        "history"
      ],
      "execution_count": null,
      "outputs": []
    },
    {
      "cell_type": "markdown",
      "metadata": {
        "id": "9O10xZ9fy6m4",
        "colab_type": "text"
      },
      "source": [
        "First, freeze the ResNet layers and train some epochs. This only trains the final layer to start classifying the images."
      ]
    },
    {
      "cell_type": "code",
      "metadata": {
        "trusted": true,
        "id": "IfMNGEJEy6m5",
        "colab_type": "code",
        "colab": {}
      },
      "source": [
        "model.freeze()"
      ],
      "execution_count": null,
      "outputs": []
    },
    {
      "cell_type": "code",
      "metadata": {
        "id": "QkqLDLxm0uFi",
        "colab_type": "code",
        "colab": {}
      },
      "source": [
        "parameters = [(10, 0.002),\n",
        "    (4, 0.001),\n",
        "    (4, 0.0005),\n",
        "    (4, 0.0001),\n",
        "]\n",
        "# 7 0.002 and then 0.0002\n",
        "# first of all do serial wise, not all in same time and then do the test dataset\n",
        "#increase the epochs of 0.002 to around 12 and see\n",
        "\n",
        "#best performer\n",
        "#10, 0.002 and 2, 0.001 achieved                    0.07637 val acc\n",
        "#10, 0.002 and 4, 0.001 and 3, 0.0005               0.07782 val acc\n",
        "#10, 0.002 and 4, 0.001 and 3, 0.0005 and 1, 0.0001 0.07913 val acc\n",
        "#10, 0.002 and 4, 0.001 and 3, 0.0005 and 1, 0.0001 0.07917 val acc loss 0.1662\n",
        "# after normalising the data\n",
        "#  , 0.002                                          0.07919 val acc loss 0.1705\n",
        "\n",
        "# 5, 0.002"
      ],
      "execution_count": null,
      "outputs": []
    },
    {
      "cell_type": "code",
      "metadata": {
        "id": "UZQsOvb_0xSa",
        "colab_type": "code",
        "colab": {}
      },
      "source": [
        "opt_func = torch.optim.Adam\n",
        "for epochs, learning_rate in parameters:\n",
        "    print(\"Training for\", epochs, 'epoch', \"with a learning rate of\", learning_rate, \"...\")\n",
        "    history += fit(epochs, learning_rate, model, train_dl, val_dl, opt_func)"
      ],
      "execution_count": null,
      "outputs": []
    },
    {
      "cell_type": "markdown",
      "metadata": {
        "id": "7Sut0MGEouwj",
        "colab_type": "text"
      },
      "source": [
        "### grad clipping"
      ]
    },
    {
      "cell_type": "code",
      "metadata": {
        "id": "36fIXiyIo2Ud",
        "colab_type": "code",
        "colab": {}
      },
      "source": [
        "def get_lr(optimizer):\n",
        "    for param_group in optimizer.param_groups:\n",
        "        return param_group['lr']\n",
        "def fit_one_cycle(epochs, max_lr, model, train_loader, val_loader, \n",
        "                  weight_decay=0, grad_clip=None, opt_func=torch.optim.SGD):\n",
        "    torch.cuda.empty_cache()\n",
        "    history = []\n",
        "    \n",
        "    # Set up cutom optimizer with weight decay\n",
        "    optimizer = opt_func(model.parameters(), max_lr, weight_decay=weight_decay)\n",
        "    # Set up one-cycle learning rate scheduler\n",
        "    #sched = torch.optim.lr_scheduler.OneCycleLR(optimizer, max_lr, epochs=epochs, \n",
        "    #                                            steps_per_epoch=len(train_loader))\n",
        "    \n",
        "    for epoch in range(epochs):\n",
        "        # Training Phase \n",
        "        model.train()\n",
        "        train_losses = []\n",
        "        lrs = []\n",
        "        for batch in tqdm(train_loader):\n",
        "            loss = model.training_step(batch)\n",
        "            train_losses.append(loss)\n",
        "            loss.backward()\n",
        "            \n",
        "            # Gradient clipping\n",
        "            if grad_clip: \n",
        "                nn.utils.clip_grad_value_(model.parameters(), grad_clip)\n",
        "            \n",
        "            optimizer.step()\n",
        "            optimizer.zero_grad()\n",
        "            \n",
        "            # Record & update learning rate\n",
        "            #lrs.append(get_lr(optimizer))\n",
        "            #sched.step()\n",
        "        \n",
        "        # Validation phase\n",
        "        result = evaluate(model, val_loader)\n",
        "        result['train_loss'] = torch.stack(train_losses).mean().item()\n",
        "        result['lrs'] = lrs\n",
        "        model.epoch_end(epoch, result)\n",
        "        history.append(result)\n",
        "    return history\n",
        "ppppp ppp"
      ],
      "execution_count": null,
      "outputs": []
    },
    {
      "cell_type": "code",
      "metadata": {
        "id": "yET1BKd3pPST",
        "colab_type": "code",
        "colab": {}
      },
      "source": [
        "epochs = 6\n",
        "max_lr = 0.0001\n",
        "grad_clip = 0.8\n",
        "weight_decay = 1e-3"
      ],
      "execution_count": null,
      "outputs": []
    },
    {
      "cell_type": "code",
      "metadata": {
        "id": "Jj0ahXkQpP2L",
        "colab_type": "code",
        "colab": {}
      },
      "source": [
        "model.unfreeze()"
      ],
      "execution_count": null,
      "outputs": []
    },
    {
      "cell_type": "code",
      "metadata": {
        "id": "8isPbX3rpZQL",
        "colab_type": "code",
        "colab": {}
      },
      "source": [
        "%%time\n",
        "history += fit_one_cycle(epochs, max_lr, model, train_dl, val_dl, \n",
        "                         grad_clip=grad_clip, \n",
        "                         weight_decay=weight_decay, \n",
        "                         opt_func=opt_func)"
      ],
      "execution_count": null,
      "outputs": []
    },
    {
      "cell_type": "markdown",
      "metadata": {
        "id": "cKdkQn1Iy6m-",
        "colab_type": "text"
      },
      "source": [
        "###Now, unfreeze and train some more."
      ]
    },
    {
      "cell_type": "markdown",
      "metadata": {
        "id": "Qd3qDaabotTP",
        "colab_type": "text"
      },
      "source": [
        ""
      ]
    },
    {
      "cell_type": "code",
      "metadata": {
        "trusted": true,
        "id": "D_rGYndjy6nD",
        "colab_type": "code",
        "colab": {}
      },
      "source": [
        "def plot_scores(history):\n",
        "    scores = [x['val_score'] for x in history]\n",
        "    plt.plot(scores, '-x')\n",
        "    plt.xlabel('epoch')\n",
        "    plt.ylabel('score')\n",
        "    plt.title('F1 score vs. No. of epochs');"
      ],
      "execution_count": null,
      "outputs": []
    },
    {
      "cell_type": "code",
      "metadata": {
        "trusted": true,
        "id": "8X5kFOa1y6nF",
        "colab_type": "code",
        "colab": {}
      },
      "source": [
        "plot_scores(history)"
      ],
      "execution_count": null,
      "outputs": []
    },
    {
      "cell_type": "code",
      "metadata": {
        "trusted": true,
        "id": "96K40r6fy6nG",
        "colab_type": "code",
        "colab": {}
      },
      "source": [
        "def plot_losses(history):\n",
        "    train_losses = [x.get('train_loss') for x in history]\n",
        "    val_losses = [x['val_loss'] for x in history]\n",
        "    plt.plot(train_losses, '-bx')\n",
        "    plt.plot(val_losses, '-rx')\n",
        "    plt.xlabel('epoch')\n",
        "    plt.ylabel('loss')\n",
        "    plt.legend(['Training', 'Validation'])\n",
        "    plt.title('Loss vs. No. of epochs');"
      ],
      "execution_count": null,
      "outputs": []
    },
    {
      "cell_type": "code",
      "metadata": {
        "trusted": true,
        "id": "clXg9Tbiy6nH",
        "colab_type": "code",
        "colab": {}
      },
      "source": [
        "plot_losses(history)"
      ],
      "execution_count": null,
      "outputs": []
    },
    {
      "cell_type": "code",
      "metadata": {
        "trusted": true,
        "id": "PcMnJx66y6nJ",
        "colab_type": "code",
        "colab": {}
      },
      "source": [
        "def plot_lrs(history):\n",
        "    lrs = np.concatenate([x.get('lrs', []) for x in history])\n",
        "    plt.plot(lrs)\n",
        "    plt.xlabel('Batch no.')\n",
        "    plt.ylabel('Learning rate')\n",
        "    plt.title('Learning Rate vs. Batch no.');"
      ],
      "execution_count": null,
      "outputs": []
    },
    {
      "cell_type": "code",
      "metadata": {
        "trusted": true,
        "id": "FuZGbFe5y6nM",
        "colab_type": "code",
        "colab": {}
      },
      "source": [
        "#plot_lrs(history)"
      ],
      "execution_count": null,
      "outputs": []
    },
    {
      "cell_type": "markdown",
      "metadata": {
        "id": "HSEES0L6y6nO",
        "colab_type": "text"
      },
      "source": [
        "## Making predictions and submission"
      ]
    },
    {
      "cell_type": "code",
      "metadata": {
        "trusted": true,
        "id": "tU4k4f4Iy6nO",
        "colab_type": "code",
        "colab": {}
      },
      "source": [
        "def predict_single(image):\n",
        "    xb = image.unsqueeze(0)\n",
        "    xb = to_device(xb, device)\n",
        "    preds = model(xb)\n",
        "    prediction = preds[0]\n",
        "    print(\"Prediction: \", prediction)\n",
        "    show_sample(image, prediction)"
      ],
      "execution_count": null,
      "outputs": []
    },
    {
      "cell_type": "code",
      "metadata": {
        "trusted": true,
        "id": "-QUdvi2Zy6nP",
        "colab_type": "code",
        "colab": {}
      },
      "source": [
        "test_df = pd.read_csv(TEST_CSV)\n",
        "test_dataset = HumanProteinDataset(test_df, TEST_DIR, transform=valid_tfms)"
      ],
      "execution_count": null,
      "outputs": []
    },
    {
      "cell_type": "code",
      "metadata": {
        "trusted": true,
        "id": "HRpcN3i3y6nS",
        "colab_type": "code",
        "colab": {}
      },
      "source": [
        "img, target = test_dataset[0]\n",
        "img.shape"
      ],
      "execution_count": null,
      "outputs": []
    },
    {
      "cell_type": "code",
      "metadata": {
        "trusted": true,
        "id": "C94bODfZy6nT",
        "colab_type": "code",
        "colab": {}
      },
      "source": [
        "predict_single(test_dataset[100][0])"
      ],
      "execution_count": null,
      "outputs": []
    },
    {
      "cell_type": "code",
      "metadata": {
        "trusted": true,
        "id": "s1j5PviTy6nV",
        "colab_type": "code",
        "colab": {}
      },
      "source": [
        "predict_single(test_dataset[74][0])"
      ],
      "execution_count": null,
      "outputs": []
    },
    {
      "cell_type": "code",
      "metadata": {
        "trusted": true,
        "id": "BDxmhyY4y6nX",
        "colab_type": "code",
        "colab": {}
      },
      "source": [
        "test_dl = DeviceDataLoader(DataLoader(test_dataset, batch_size, num_workers=3, pin_memory=True), device)"
      ],
      "execution_count": null,
      "outputs": []
    },
    {
      "cell_type": "code",
      "metadata": {
        "trusted": true,
        "id": "wF8u0N4Ly6nZ",
        "colab_type": "code",
        "colab": {}
      },
      "source": [
        "@torch.no_grad()\n",
        "def predict_dl(dl, model):\n",
        "    torch.cuda.empty_cache()\n",
        "    batch_probs = []\n",
        "    for xb, _ in tqdm(dl):\n",
        "        probs = model(xb)\n",
        "        batch_probs.append(probs.cpu().detach())\n",
        "    batch_probs = torch.cat(batch_probs)\n",
        "    return [decode_target(x) for x in batch_probs]"
      ],
      "execution_count": null,
      "outputs": []
    },
    {
      "cell_type": "code",
      "metadata": {
        "trusted": true,
        "id": "SBmvAFPry6nc",
        "colab_type": "code",
        "colab": {}
      },
      "source": [
        "test_preds = predict_dl(test_dl, model)"
      ],
      "execution_count": null,
      "outputs": []
    },
    {
      "cell_type": "code",
      "metadata": {
        "id": "dsHkhnC0tY29",
        "colab_type": "code",
        "colab": {}
      },
      "source": [
        "latest =history[-1]\n",
        "latest['val_loss'], latest['val_score']"
      ],
      "execution_count": null,
      "outputs": []
    },
    {
      "cell_type": "code",
      "metadata": {
        "trusted": true,
        "id": "QFLMcjRsy6ne",
        "colab_type": "code",
        "colab": {}
      },
      "source": [
        "submission_df = pd.read_csv(TEST_CSV)\n",
        "submission_df.Label = test_preds\n",
        "submission_df.sample(20)"
      ],
      "execution_count": null,
      "outputs": []
    },
    {
      "cell_type": "code",
      "metadata": {
        "id": "yxl5aAawiaX6",
        "colab_type": "code",
        "colab": {}
      },
      "source": [
        "valloss_str=str(round(latest['val_loss'], 4))\n",
        "valscore_str=str(round(latest['val_score'], 4))"
      ],
      "execution_count": null,
      "outputs": []
    },
    {
      "cell_type": "code",
      "metadata": {
        "trusted": true,
        "id": "agWoQ-xEy6ng",
        "colab_type": "code",
        "colab": {}
      },
      "source": [
        "\n",
        "sub_fname = 'submissionforkaggle' + valscore_str + valloss_str +  '.csv'\n",
        "#0.07919 val acc loss 0.1705\n",
        "submission_df.to_csv(sub_fname, index=False)\n",
        "weights_fname = 'protein-resnet' + valscore_str + valloss_str + '.pth'\n",
        "torch.save(model.state_dict(), weights_fname)"
      ],
      "execution_count": null,
      "outputs": []
    },
    {
      "cell_type": "code",
      "metadata": {
        "id": "X1zp8OIWlHyx",
        "colab_type": "code",
        "colab": {}
      },
      "source": [
        "submissionfile = '/content/' + sub_fname\n",
        "modelfile = '/content/' + weights_fname"
      ],
      "execution_count": null,
      "outputs": []
    },
    {
      "cell_type": "code",
      "metadata": {
        "id": "lDJi4Bvvk_7F",
        "colab_type": "code",
        "colab": {}
      },
      "source": [
        "from google.colab import files\n",
        "files.download(submissionfile)\n",
        "files.download(modelfile) "
      ],
      "execution_count": null,
      "outputs": []
    },
    {
      "cell_type": "markdown",
      "metadata": {
        "id": "hgHtwZN8y6ni",
        "colab_type": "text"
      },
      "source": [
        "## Save and Commit"
      ]
    },
    {
      "cell_type": "code",
      "metadata": {
        "trusted": true,
        "id": "MioaXazmy6ni",
        "colab_type": "code",
        "colab": {}
      },
      "source": [
        "#weights_fname = 'protein-resnet.pth'\n",
        "#torch.save(model.state_dict(), weights_fname)"
      ],
      "execution_count": null,
      "outputs": []
    },
    {
      "cell_type": "code",
      "metadata": {
        "trusted": true,
        "id": "4UpLNlX-y6nk",
        "colab_type": "code",
        "colab": {}
      },
      "source": [
        "#!pip install jovian --upgrade --quiet"
      ],
      "execution_count": null,
      "outputs": []
    },
    {
      "cell_type": "code",
      "metadata": {
        "trusted": true,
        "id": "NsTfv1tpy6nn",
        "colab_type": "code",
        "colab": {}
      },
      "source": [
        "#import jovian"
      ],
      "execution_count": null,
      "outputs": []
    },
    {
      "cell_type": "code",
      "metadata": {
        "trusted": true,
        "id": "H5zoed38y6no",
        "colab_type": "code",
        "colab": {}
      },
      "source": [
        "#jovian.reset()\n",
        "'''jovian.log_hyperparams(arch='resnet34', \n",
        "                       epochs=2*epochs, \n",
        "                       lr=max_lr, \n",
        "                       scheduler='one-cycle', \n",
        "                       weight_decay=weight_decay, \n",
        "                       grad_clip=grad_clip,\n",
        "                       opt=opt_func.__name__)'''"
      ],
      "execution_count": null,
      "outputs": []
    },
    {
      "cell_type": "code",
      "metadata": {
        "trusted": true,
        "id": "aDho14_Zy6ns",
        "colab_type": "code",
        "colab": {}
      },
      "source": [
        "#jovian.log_metrics(val_loss=history[-1]['val_loss'], \n",
        "                   val_score=history[-1]['val_score'],\n",
        "                   train_loss=history[-1]['train_loss'],\n",
        "                   time=train_time)"
      ],
      "execution_count": null,
      "outputs": []
    },
    {
      "cell_type": "code",
      "metadata": {
        "trusted": true,
        "id": "lcHPE63hy6nu",
        "colab_type": "code",
        "colab": {}
      },
      "source": [
        "#project_name='protein-advanced'"
      ],
      "execution_count": null,
      "outputs": []
    },
    {
      "cell_type": "code",
      "metadata": {
        "trusted": true,
        "id": "Uf5bwZJ-y6nw",
        "colab_type": "code",
        "colab": {}
      },
      "source": [
        "#jovian.commit(project=project_name, environment=None, outputs=[weights_fname])"
      ],
      "execution_count": null,
      "outputs": []
    },
    {
      "cell_type": "code",
      "metadata": {
        "trusted": true,
        "id": "WoYTikzpy6ny",
        "colab_type": "code",
        "colab": {}
      },
      "source": [
        ""
      ],
      "execution_count": null,
      "outputs": []
    }
  ]
}